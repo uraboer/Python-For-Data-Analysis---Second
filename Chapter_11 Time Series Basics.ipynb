{
 "cells": [
  {
   "cell_type": "code",
   "execution_count": 3,
   "metadata": {},
   "outputs": [
    {
     "data": {
      "text/plain": [
       "2018-01-02   -0.715160\n",
       "2018-01-05    0.890571\n",
       "2018-01-07    1.511050\n",
       "2018-01-08    0.521987\n",
       "2018-01-10    0.289492\n",
       "2018-01-12    0.757552\n",
       "dtype: float64"
      ]
     },
     "execution_count": 3,
     "metadata": {},
     "output_type": "execute_result"
    }
   ],
   "source": [
    "from datetime import datetime\n",
    "import pandas as pd\n",
    "import numpy as np\n",
    "\n",
    "dates=[datetime(2018,1,2),datetime(2018,1,5),\n",
    "      datetime(2018,1,7),datetime(2018,1,8),\n",
    "      datetime(2018,1,10),datetime(2018,1,12),]\n",
    "\n",
    "ts=pd.Series(np.random.randn(6),index=dates)\n",
    "\n",
    "ts"
   ]
  },
  {
   "cell_type": "code",
   "execution_count": 4,
   "metadata": {},
   "outputs": [
    {
     "data": {
      "text/plain": [
       "DatetimeIndex(['2018-01-02', '2018-01-05', '2018-01-07', '2018-01-08',\n",
       "               '2018-01-10', '2018-01-12'],\n",
       "              dtype='datetime64[ns]', freq=None)"
      ]
     },
     "execution_count": 4,
     "metadata": {},
     "output_type": "execute_result"
    }
   ],
   "source": [
    "ts.index"
   ]
  },
  {
   "cell_type": "code",
   "execution_count": 5,
   "metadata": {},
   "outputs": [
    {
     "data": {
      "text/plain": [
       "2018-01-02   -1.430319\n",
       "2018-01-05         NaN\n",
       "2018-01-07    3.022099\n",
       "2018-01-08         NaN\n",
       "2018-01-10    0.578984\n",
       "2018-01-12         NaN\n",
       "dtype: float64"
      ]
     },
     "execution_count": 5,
     "metadata": {},
     "output_type": "execute_result"
    }
   ],
   "source": [
    "ts+ts[::2]"
   ]
  },
  {
   "cell_type": "code",
   "execution_count": 6,
   "metadata": {},
   "outputs": [
    {
     "data": {
      "text/plain": [
       "2018-01-02   -0.715160\n",
       "2018-01-07    1.511050\n",
       "2018-01-10    0.289492\n",
       "dtype: float64"
      ]
     },
     "execution_count": 6,
     "metadata": {},
     "output_type": "execute_result"
    }
   ],
   "source": [
    "ts[::2]"
   ]
  },
  {
   "cell_type": "code",
   "execution_count": 8,
   "metadata": {},
   "outputs": [
    {
     "data": {
      "text/plain": [
       "DatetimeIndex(['2018-05-07', '2018-05-14', '2018-05-21', '2018-05-28',\n",
       "               '2018-06-04', '2018-06-11', '2018-06-18', '2018-06-25',\n",
       "               '2018-07-02', '2018-07-09', '2018-07-16', '2018-07-23',\n",
       "               '2018-07-30', '2018-08-06', '2018-08-13', '2018-08-20',\n",
       "               '2018-08-27', '2018-09-03', '2018-09-10', '2018-09-17',\n",
       "               '2018-09-24', '2018-10-01', '2018-10-08', '2018-10-15',\n",
       "               '2018-10-22', '2018-10-29', '2018-11-05', '2018-11-12',\n",
       "               '2018-11-19', '2018-11-26', '2018-12-03', '2018-12-10',\n",
       "               '2018-12-17', '2018-12-24', '2018-12-31', '2019-01-07',\n",
       "               '2019-01-14', '2019-01-21', '2019-01-28', '2019-02-04',\n",
       "               '2019-02-11', '2019-02-18', '2019-02-25', '2019-03-04',\n",
       "               '2019-03-11', '2019-03-18', '2019-03-25', '2019-04-01',\n",
       "               '2019-04-08', '2019-04-15', '2019-04-22', '2019-04-29',\n",
       "               '2019-05-06', '2019-05-13', '2019-05-20', '2019-05-27',\n",
       "               '2019-06-03', '2019-06-10', '2019-06-17', '2019-06-24',\n",
       "               '2019-07-01', '2019-07-08', '2019-07-15', '2019-07-22',\n",
       "               '2019-07-29', '2019-08-05', '2019-08-12', '2019-08-19',\n",
       "               '2019-08-26', '2019-09-02', '2019-09-09', '2019-09-16',\n",
       "               '2019-09-23', '2019-09-30', '2019-10-07', '2019-10-14',\n",
       "               '2019-10-21', '2019-10-28', '2019-11-04', '2019-11-11',\n",
       "               '2019-11-18', '2019-11-25', '2019-12-02', '2019-12-09',\n",
       "               '2019-12-16', '2019-12-23', '2019-12-30', '2020-01-06',\n",
       "               '2020-01-13', '2020-01-20', '2020-01-27', '2020-02-03',\n",
       "               '2020-02-10', '2020-02-17', '2020-02-24', '2020-03-02',\n",
       "               '2020-03-09', '2020-03-16', '2020-03-23', '2020-03-30'],\n",
       "              dtype='datetime64[ns]', freq='W-MON')"
      ]
     },
     "execution_count": 8,
     "metadata": {},
     "output_type": "execute_result"
    }
   ],
   "source": [
    "dates=pd.date_range('5/1/2018',periods=100,freq='W-Mon')\n",
    "dates"
   ]
  },
  {
   "cell_type": "code",
   "execution_count": 9,
   "metadata": {},
   "outputs": [
    {
     "data": {
      "text/plain": [
       "DatetimeIndexResampler [freq=<Day>, axis=0, closed=left, label=left, convention=start, base=0]"
      ]
     },
     "execution_count": 9,
     "metadata": {},
     "output_type": "execute_result"
    }
   ],
   "source": [
    "ts.resample(\"D\")"
   ]
  },
  {
   "cell_type": "code",
   "execution_count": 10,
   "metadata": {},
   "outputs": [
    {
     "data": {
      "text/plain": [
       "['US/Eastern', 'US/Hawaii', 'US/Mountain', 'US/Pacific', 'UTC']"
      ]
     },
     "execution_count": 10,
     "metadata": {},
     "output_type": "execute_result"
    }
   ],
   "source": [
    "import pytz\n",
    "pytz.common_timezones[-5:]"
   ]
  },
  {
   "cell_type": "code",
   "execution_count": 11,
   "metadata": {},
   "outputs": [
    {
     "data": {
      "text/plain": [
       "<DstTzInfo 'America/New_York' LMT-1 day, 19:04:00 STD>"
      ]
     },
     "execution_count": 11,
     "metadata": {},
     "output_type": "execute_result"
    }
   ],
   "source": [
    "tz=pytz.timezone(\"America/New_York\")\n",
    "tz"
   ]
  },
  {
   "cell_type": "code",
   "execution_count": null,
   "metadata": {
    "collapsed": true
   },
   "outputs": [],
   "source": []
  }
 ],
 "metadata": {
  "kernelspec": {
   "display_name": "Python 3",
   "language": "python",
   "name": "python3"
  },
  "language_info": {
   "codemirror_mode": {
    "name": "ipython",
    "version": 3
   },
   "file_extension": ".py",
   "mimetype": "text/x-python",
   "name": "python",
   "nbconvert_exporter": "python",
   "pygments_lexer": "ipython3",
   "version": "3.6.1"
  }
 },
 "nbformat": 4,
 "nbformat_minor": 2
}
