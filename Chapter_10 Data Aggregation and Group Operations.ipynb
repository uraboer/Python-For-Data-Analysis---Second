{
 "cells": [
  {
   "cell_type": "markdown",
   "metadata": {},
   "source": [
    "- Split a pandas object into pieces using one or more keys (in the form of functions, arrays, or DataFrame column names)\n",
    "\n",
    "- Calculate group summary statistics, like count, mean, or standard deviation, or a user-defined function\n",
    "\n",
    "- Apply within-group transformations or other manipulations, like normalization, linear regression, rank, or subset selection\n",
    "\n",
    "- Compute pivot tables and cross-tabulations\n",
    "\n",
    "- Perform quantile analysis and other statistical group analyses"
   ]
  },
  {
   "cell_type": "code",
   "execution_count": 3,
   "metadata": {},
   "outputs": [
    {
     "data": {
      "text/html": [
       "<div>\n",
       "<style>\n",
       "    .dataframe thead tr:only-child th {\n",
       "        text-align: right;\n",
       "    }\n",
       "\n",
       "    .dataframe thead th {\n",
       "        text-align: left;\n",
       "    }\n",
       "\n",
       "    .dataframe tbody tr th {\n",
       "        vertical-align: top;\n",
       "    }\n",
       "</style>\n",
       "<table border=\"1\" class=\"dataframe\">\n",
       "  <thead>\n",
       "    <tr>\n",
       "      <th>cty</th>\n",
       "      <th colspan=\"3\" halign=\"left\">US</th>\n",
       "      <th colspan=\"2\" halign=\"left\">JP</th>\n",
       "    </tr>\n",
       "    <tr>\n",
       "      <th>tenor</th>\n",
       "      <th>1</th>\n",
       "      <th>3</th>\n",
       "      <th>5</th>\n",
       "      <th>1</th>\n",
       "      <th>3</th>\n",
       "    </tr>\n",
       "  </thead>\n",
       "  <tbody>\n",
       "    <tr>\n",
       "      <th>0</th>\n",
       "      <td>0.034852</td>\n",
       "      <td>1.679543</td>\n",
       "      <td>-1.826537</td>\n",
       "      <td>2.004086</td>\n",
       "      <td>-1.311023</td>\n",
       "    </tr>\n",
       "    <tr>\n",
       "      <th>1</th>\n",
       "      <td>-0.433576</td>\n",
       "      <td>-1.773994</td>\n",
       "      <td>-0.278428</td>\n",
       "      <td>-0.804200</td>\n",
       "      <td>-0.138707</td>\n",
       "    </tr>\n",
       "    <tr>\n",
       "      <th>2</th>\n",
       "      <td>-0.687512</td>\n",
       "      <td>-1.316228</td>\n",
       "      <td>0.138486</td>\n",
       "      <td>-1.063413</td>\n",
       "      <td>-1.242186</td>\n",
       "    </tr>\n",
       "    <tr>\n",
       "      <th>3</th>\n",
       "      <td>2.528902</td>\n",
       "      <td>-0.407576</td>\n",
       "      <td>0.758973</td>\n",
       "      <td>1.271060</td>\n",
       "      <td>-0.199388</td>\n",
       "    </tr>\n",
       "  </tbody>\n",
       "</table>\n",
       "</div>"
      ],
      "text/plain": [
       "cty          US                            JP          \n",
       "tenor         1         3         5         1         3\n",
       "0      0.034852  1.679543 -1.826537  2.004086 -1.311023\n",
       "1     -0.433576 -1.773994 -0.278428 -0.804200 -0.138707\n",
       "2     -0.687512 -1.316228  0.138486 -1.063413 -1.242186\n",
       "3      2.528902 -0.407576  0.758973  1.271060 -0.199388"
      ]
     },
     "execution_count": 3,
     "metadata": {},
     "output_type": "execute_result"
    }
   ],
   "source": [
    "import pandas as pd\n",
    "import numpy as np\n",
    "\n",
    "columns=pd.MultiIndex.from_arrays([[\"US\",\"US\",\"US\",\"JP\",\"JP\"],[1,3,5,1,3]],names=[\"cty\",\"tenor\"])\n",
    "\n",
    "hief_df=pd.DataFrame(np.random.randn(4,5),columns=columns)\n",
    "\n",
    "hief_df"
   ]
  },
  {
   "cell_type": "code",
   "execution_count": 4,
   "metadata": {},
   "outputs": [
    {
     "data": {
      "text/html": [
       "<div>\n",
       "<style>\n",
       "    .dataframe thead tr:only-child th {\n",
       "        text-align: right;\n",
       "    }\n",
       "\n",
       "    .dataframe thead th {\n",
       "        text-align: left;\n",
       "    }\n",
       "\n",
       "    .dataframe tbody tr th {\n",
       "        vertical-align: top;\n",
       "    }\n",
       "</style>\n",
       "<table border=\"1\" class=\"dataframe\">\n",
       "  <thead>\n",
       "    <tr style=\"text-align: right;\">\n",
       "      <th>cty</th>\n",
       "      <th>JP</th>\n",
       "      <th>US</th>\n",
       "    </tr>\n",
       "  </thead>\n",
       "  <tbody>\n",
       "    <tr>\n",
       "      <th>0</th>\n",
       "      <td>2</td>\n",
       "      <td>3</td>\n",
       "    </tr>\n",
       "    <tr>\n",
       "      <th>1</th>\n",
       "      <td>2</td>\n",
       "      <td>3</td>\n",
       "    </tr>\n",
       "    <tr>\n",
       "      <th>2</th>\n",
       "      <td>2</td>\n",
       "      <td>3</td>\n",
       "    </tr>\n",
       "    <tr>\n",
       "      <th>3</th>\n",
       "      <td>2</td>\n",
       "      <td>3</td>\n",
       "    </tr>\n",
       "  </tbody>\n",
       "</table>\n",
       "</div>"
      ],
      "text/plain": [
       "cty  JP  US\n",
       "0     2   3\n",
       "1     2   3\n",
       "2     2   3\n",
       "3     2   3"
      ]
     },
     "execution_count": 4,
     "metadata": {},
     "output_type": "execute_result"
    }
   ],
   "source": [
    "hief_df.groupby(level=\"cty\",axis=1).count()"
   ]
  },
  {
   "cell_type": "code",
   "execution_count": 5,
   "metadata": {},
   "outputs": [
    {
     "data": {
      "text/plain": [
       "0     (0.171, 1.841]\n",
       "1     (0.171, 1.841]\n",
       "2    (-1.499, 0.171]\n",
       "3    (-1.499, 0.171]\n",
       "4     (0.171, 1.841]\n",
       "5    (-1.499, 0.171]\n",
       "6    (-1.499, 0.171]\n",
       "7     (0.171, 1.841]\n",
       "8    (-1.499, 0.171]\n",
       "9     (0.171, 1.841]\n",
       "Name: data1, dtype: category\n",
       "Categories (4, interval[float64]): [(-3.176, -1.499] < (-1.499, 0.171] < (0.171, 1.841] < (1.841, 3.512]]"
      ]
     },
     "execution_count": 5,
     "metadata": {},
     "output_type": "execute_result"
    }
   ],
   "source": [
    "frame=pd.DataFrame({\"data1\":np.random.randn(1000),\n",
    "                   \"data2\":np.random.randn(1000)})\n",
    "\n",
    "quartiles=pd.cut(frame.data1,4)\n",
    "\n",
    "quartiles[:10]"
   ]
  },
  {
   "cell_type": "code",
   "execution_count": 10,
   "metadata": {},
   "outputs": [
    {
     "data": {
      "text/html": [
       "<div>\n",
       "<style>\n",
       "    .dataframe thead tr:only-child th {\n",
       "        text-align: right;\n",
       "    }\n",
       "\n",
       "    .dataframe thead th {\n",
       "        text-align: left;\n",
       "    }\n",
       "\n",
       "    .dataframe tbody tr th {\n",
       "        vertical-align: top;\n",
       "    }\n",
       "</style>\n",
       "<table border=\"1\" class=\"dataframe\">\n",
       "  <thead>\n",
       "    <tr style=\"text-align: right;\">\n",
       "      <th></th>\n",
       "      <th>count</th>\n",
       "      <th>max</th>\n",
       "      <th>mean</th>\n",
       "      <th>min</th>\n",
       "    </tr>\n",
       "    <tr>\n",
       "      <th>data1</th>\n",
       "      <th></th>\n",
       "      <th></th>\n",
       "      <th></th>\n",
       "      <th></th>\n",
       "    </tr>\n",
       "  </thead>\n",
       "  <tbody>\n",
       "    <tr>\n",
       "      <th>(-3.176, -1.499]</th>\n",
       "      <td>57.0</td>\n",
       "      <td>2.934282</td>\n",
       "      <td>-0.210856</td>\n",
       "      <td>-2.575190</td>\n",
       "    </tr>\n",
       "    <tr>\n",
       "      <th>(-1.499, 0.171]</th>\n",
       "      <td>488.0</td>\n",
       "      <td>2.659131</td>\n",
       "      <td>0.063489</td>\n",
       "      <td>-2.627577</td>\n",
       "    </tr>\n",
       "    <tr>\n",
       "      <th>(0.171, 1.841]</th>\n",
       "      <td>418.0</td>\n",
       "      <td>2.924808</td>\n",
       "      <td>0.019954</td>\n",
       "      <td>-2.445204</td>\n",
       "    </tr>\n",
       "    <tr>\n",
       "      <th>(1.841, 3.512]</th>\n",
       "      <td>37.0</td>\n",
       "      <td>1.752489</td>\n",
       "      <td>-0.101989</td>\n",
       "      <td>-2.437732</td>\n",
       "    </tr>\n",
       "  </tbody>\n",
       "</table>\n",
       "</div>"
      ],
      "text/plain": [
       "                  count       max      mean       min\n",
       "data1                                                \n",
       "(-3.176, -1.499]   57.0  2.934282 -0.210856 -2.575190\n",
       "(-1.499, 0.171]   488.0  2.659131  0.063489 -2.627577\n",
       "(0.171, 1.841]    418.0  2.924808  0.019954 -2.445204\n",
       "(1.841, 3.512]     37.0  1.752489 -0.101989 -2.437732"
      ]
     },
     "execution_count": 10,
     "metadata": {},
     "output_type": "execute_result"
    }
   ],
   "source": [
    "def get_stats(group):\n",
    "    return {\"min\":group.min(),\"max\":group.max(),\n",
    "           \"count\":group.count(),\"mean\":group.mean()}\n",
    "\n",
    "grouped=frame.data2.groupby(quartiles)\n",
    "\n",
    "\n",
    "grouped.apply(get_stats).unstack()"
   ]
  },
  {
   "cell_type": "code",
   "execution_count": 11,
   "metadata": {},
   "outputs": [
    {
     "data": {
      "text/html": [
       "<div>\n",
       "<style>\n",
       "    .dataframe thead tr:only-child th {\n",
       "        text-align: right;\n",
       "    }\n",
       "\n",
       "    .dataframe thead th {\n",
       "        text-align: left;\n",
       "    }\n",
       "\n",
       "    .dataframe tbody tr th {\n",
       "        vertical-align: top;\n",
       "    }\n",
       "</style>\n",
       "<table border=\"1\" class=\"dataframe\">\n",
       "  <thead>\n",
       "    <tr style=\"text-align: right;\">\n",
       "      <th></th>\n",
       "      <th>count</th>\n",
       "      <th>max</th>\n",
       "      <th>mean</th>\n",
       "      <th>min</th>\n",
       "    </tr>\n",
       "    <tr>\n",
       "      <th>data1</th>\n",
       "      <th></th>\n",
       "      <th></th>\n",
       "      <th></th>\n",
       "      <th></th>\n",
       "    </tr>\n",
       "  </thead>\n",
       "  <tbody>\n",
       "    <tr>\n",
       "      <th>0</th>\n",
       "      <td>3.0</td>\n",
       "      <td>0.752727</td>\n",
       "      <td>-0.410399</td>\n",
       "      <td>-2.301245</td>\n",
       "    </tr>\n",
       "    <tr>\n",
       "      <th>1</th>\n",
       "      <td>25.0</td>\n",
       "      <td>1.945392</td>\n",
       "      <td>-0.087562</td>\n",
       "      <td>-2.144291</td>\n",
       "    </tr>\n",
       "    <tr>\n",
       "      <th>2</th>\n",
       "      <td>69.0</td>\n",
       "      <td>2.934282</td>\n",
       "      <td>-0.231488</td>\n",
       "      <td>-2.575190</td>\n",
       "    </tr>\n",
       "    <tr>\n",
       "      <th>3</th>\n",
       "      <td>193.0</td>\n",
       "      <td>2.659131</td>\n",
       "      <td>0.100234</td>\n",
       "      <td>-2.627577</td>\n",
       "    </tr>\n",
       "    <tr>\n",
       "      <th>4</th>\n",
       "      <td>255.0</td>\n",
       "      <td>2.233886</td>\n",
       "      <td>0.074555</td>\n",
       "      <td>-2.487339</td>\n",
       "    </tr>\n",
       "    <tr>\n",
       "      <th>5</th>\n",
       "      <td>242.0</td>\n",
       "      <td>2.674451</td>\n",
       "      <td>-0.052123</td>\n",
       "      <td>-2.355731</td>\n",
       "    </tr>\n",
       "    <tr>\n",
       "      <th>6</th>\n",
       "      <td>142.0</td>\n",
       "      <td>2.924808</td>\n",
       "      <td>0.083643</td>\n",
       "      <td>-2.445204</td>\n",
       "    </tr>\n",
       "    <tr>\n",
       "      <th>7</th>\n",
       "      <td>50.0</td>\n",
       "      <td>1.868294</td>\n",
       "      <td>0.102430</td>\n",
       "      <td>-1.499299</td>\n",
       "    </tr>\n",
       "    <tr>\n",
       "      <th>8</th>\n",
       "      <td>18.0</td>\n",
       "      <td>1.752489</td>\n",
       "      <td>0.173798</td>\n",
       "      <td>-2.037353</td>\n",
       "    </tr>\n",
       "    <tr>\n",
       "      <th>9</th>\n",
       "      <td>3.0</td>\n",
       "      <td>0.967973</td>\n",
       "      <td>-0.982019</td>\n",
       "      <td>-2.437732</td>\n",
       "    </tr>\n",
       "  </tbody>\n",
       "</table>\n",
       "</div>"
      ],
      "text/plain": [
       "       count       max      mean       min\n",
       "data1                                     \n",
       "0        3.0  0.752727 -0.410399 -2.301245\n",
       "1       25.0  1.945392 -0.087562 -2.144291\n",
       "2       69.0  2.934282 -0.231488 -2.575190\n",
       "3      193.0  2.659131  0.100234 -2.627577\n",
       "4      255.0  2.233886  0.074555 -2.487339\n",
       "5      242.0  2.674451 -0.052123 -2.355731\n",
       "6      142.0  2.924808  0.083643 -2.445204\n",
       "7       50.0  1.868294  0.102430 -1.499299\n",
       "8       18.0  1.752489  0.173798 -2.037353\n",
       "9        3.0  0.967973 -0.982019 -2.437732"
      ]
     },
     "execution_count": 11,
     "metadata": {},
     "output_type": "execute_result"
    }
   ],
   "source": [
    "grouping=pd.cut(frame.data1,10,labels=False)\n",
    "\n",
    "grouped=frame.data2.groupby(grouping)\n",
    "\n",
    "grouped.apply(get_stats).unstack()"
   ]
  },
  {
   "cell_type": "code",
   "execution_count": 13,
   "metadata": {},
   "outputs": [
    {
     "data": {
      "text/plain": [
       "0         NaN\n",
       "1    1.036027\n",
       "2         NaN\n",
       "3    0.835081\n",
       "4         NaN\n",
       "5   -0.680273\n",
       "dtype: float64"
      ]
     },
     "execution_count": 13,
     "metadata": {},
     "output_type": "execute_result"
    }
   ],
   "source": [
    "s=pd.Series(np.random.randn(6))\n",
    "\n",
    "s[::2]=np.nan\n",
    "\n",
    "s"
   ]
  },
  {
   "cell_type": "code",
   "execution_count": 14,
   "metadata": {},
   "outputs": [
    {
     "data": {
      "text/plain": [
       "0    0.396945\n",
       "1    1.036027\n",
       "2    0.396945\n",
       "3    0.835081\n",
       "4    0.396945\n",
       "5   -0.680273\n",
       "dtype: float64"
      ]
     },
     "execution_count": 14,
     "metadata": {},
     "output_type": "execute_result"
    }
   ],
   "source": [
    "s.fillna(s.mean())"
   ]
  },
  {
   "cell_type": "code",
   "execution_count": 15,
   "metadata": {},
   "outputs": [
    {
     "data": {
      "text/plain": [
       "Ohio         -0.358950\n",
       "New York      0.980727\n",
       "Vermont      -0.131643\n",
       "Florida       1.737017\n",
       "Oregon       -1.146479\n",
       "Nevada        1.554613\n",
       "California   -0.234942\n",
       "Idaho        -1.158991\n",
       "dtype: float64"
      ]
     },
     "execution_count": 15,
     "metadata": {},
     "output_type": "execute_result"
    }
   ],
   "source": [
    "states=[\"Ohio\",\"New York\",\"Vermont\",\"Florida\",\"Oregon\",\"Nevada\",\"California\",\"Idaho\"]\n",
    "\n",
    "group_key=[\"East\"]*4+[\"West\"]*4\n",
    "\n",
    "data=pd.Series(np.random.randn(8),index=states)\n",
    "\n",
    "data"
   ]
  },
  {
   "cell_type": "code",
   "execution_count": 16,
   "metadata": {},
   "outputs": [
    {
     "data": {
      "text/plain": [
       "['East', 'East', 'East', 'East', 'West', 'West', 'West', 'West']"
      ]
     },
     "execution_count": 16,
     "metadata": {},
     "output_type": "execute_result"
    }
   ],
   "source": [
    "group_key"
   ]
  },
  {
   "cell_type": "code",
   "execution_count": 17,
   "metadata": {},
   "outputs": [
    {
     "data": {
      "text/plain": [
       "Ohio         -0.358950\n",
       "New York      0.980727\n",
       "Vermont            NaN\n",
       "Florida       1.737017\n",
       "Oregon       -1.146479\n",
       "Nevada             NaN\n",
       "California   -0.234942\n",
       "Idaho              NaN\n",
       "dtype: float64"
      ]
     },
     "execution_count": 17,
     "metadata": {},
     "output_type": "execute_result"
    }
   ],
   "source": [
    "data[[\"Vermont\",\"Nevada\",\"Idaho\"]]=np.nan\n",
    "\n",
    "data"
   ]
  },
  {
   "cell_type": "code",
   "execution_count": 18,
   "metadata": {},
   "outputs": [
    {
     "data": {
      "text/plain": [
       "East    0.786264\n",
       "West   -0.690711\n",
       "dtype: float64"
      ]
     },
     "execution_count": 18,
     "metadata": {},
     "output_type": "execute_result"
    }
   ],
   "source": [
    "data.groupby(group_key).mean()"
   ]
  },
  {
   "cell_type": "code",
   "execution_count": 19,
   "metadata": {},
   "outputs": [
    {
     "data": {
      "text/plain": [
       "Ohio         -0.358950\n",
       "New York      0.980727\n",
       "Vermont       0.786264\n",
       "Florida       1.737017\n",
       "Oregon       -1.146479\n",
       "Nevada       -0.690711\n",
       "California   -0.234942\n",
       "Idaho        -0.690711\n",
       "dtype: float64"
      ]
     },
     "execution_count": 19,
     "metadata": {},
     "output_type": "execute_result"
    }
   ],
   "source": [
    "fill_mean=lambda g:g.fillna(g.mean())\n",
    "\n",
    "data.groupby(group_key).apply(fill_mean)"
   ]
  },
  {
   "cell_type": "code",
   "execution_count": 21,
   "metadata": {},
   "outputs": [
    {
     "data": {
      "text/plain": [
       "Ohio         -0.358950\n",
       "New York      0.980727\n",
       "Vermont       0.500000\n",
       "Florida       1.737017\n",
       "Oregon       -1.146479\n",
       "Nevada       -1.000000\n",
       "California   -0.234942\n",
       "Idaho        -1.000000\n",
       "dtype: float64"
      ]
     },
     "execution_count": 21,
     "metadata": {},
     "output_type": "execute_result"
    }
   ],
   "source": [
    "fill_values={\"East\":0.5,\"West\":-1}\n",
    "\n",
    "\n",
    "fill_func=lambda g:g.fillna(fill_values[g.name])\n",
    "\n",
    "\n",
    "data.groupby(group_key).apply(fill_func)"
   ]
  },
  {
   "cell_type": "code",
   "execution_count": 23,
   "metadata": {},
   "outputs": [],
   "source": [
    "suits=[\"H\",\"S\",\"C\",\"D\"]\n",
    "card_val=(list(range(1,11))+[10]*3)*4\n",
    "\n",
    "base_names=[\"A\"]+list(range(2,11))+[\"J\",\"K\",\"Q\"]\n",
    "cards=[]\n",
    "\n",
    "for suit in [\"H\",\"S\",\"C\",\"D\"]:\n",
    "    cards.extend(str(num)+suit for num in base_names)\n",
    "\n",
    "deck=pd.Series(card_val,index=cards)\n"
   ]
  },
  {
   "cell_type": "code",
   "execution_count": 28,
   "metadata": {},
   "outputs": [],
   "source": [
    "def draw(deck,n=5):\n",
    "    return deck.sample(n)"
   ]
  },
  {
   "cell_type": "code",
   "execution_count": 30,
   "metadata": {},
   "outputs": [
    {
     "data": {
      "text/plain": [
       "4S     4\n",
       "9C     9\n",
       "7S     7\n",
       "8C     8\n",
       "QS    10\n",
       "dtype: int64"
      ]
     },
     "execution_count": 30,
     "metadata": {},
     "output_type": "execute_result"
    }
   ],
   "source": [
    "draw(deck)"
   ]
  },
  {
   "cell_type": "code",
   "execution_count": null,
   "metadata": {
    "collapsed": true
   },
   "outputs": [],
   "source": []
  },
  {
   "cell_type": "code",
   "execution_count": null,
   "metadata": {
    "collapsed": true
   },
   "outputs": [],
   "source": []
  },
  {
   "cell_type": "code",
   "execution_count": null,
   "metadata": {
    "collapsed": true
   },
   "outputs": [],
   "source": []
  },
  {
   "cell_type": "code",
   "execution_count": null,
   "metadata": {},
   "outputs": [],
   "source": []
  },
  {
   "cell_type": "code",
   "execution_count": null,
   "metadata": {
    "collapsed": true
   },
   "outputs": [],
   "source": []
  },
  {
   "cell_type": "code",
   "execution_count": null,
   "metadata": {
    "collapsed": true
   },
   "outputs": [],
   "source": []
  },
  {
   "cell_type": "code",
   "execution_count": null,
   "metadata": {
    "collapsed": true
   },
   "outputs": [],
   "source": [
    "\n"
   ]
  },
  {
   "cell_type": "code",
   "execution_count": null,
   "metadata": {
    "collapsed": true
   },
   "outputs": [],
   "source": []
  },
  {
   "cell_type": "code",
   "execution_count": null,
   "metadata": {
    "collapsed": true
   },
   "outputs": [],
   "source": []
  },
  {
   "cell_type": "code",
   "execution_count": null,
   "metadata": {
    "collapsed": true
   },
   "outputs": [],
   "source": []
  },
  {
   "cell_type": "code",
   "execution_count": null,
   "metadata": {
    "collapsed": true
   },
   "outputs": [],
   "source": []
  },
  {
   "cell_type": "code",
   "execution_count": null,
   "metadata": {
    "collapsed": true
   },
   "outputs": [],
   "source": []
  },
  {
   "cell_type": "code",
   "execution_count": null,
   "metadata": {
    "collapsed": true
   },
   "outputs": [],
   "source": []
  },
  {
   "cell_type": "code",
   "execution_count": null,
   "metadata": {
    "collapsed": true
   },
   "outputs": [],
   "source": [
    "\n"
   ]
  },
  {
   "cell_type": "code",
   "execution_count": null,
   "metadata": {
    "collapsed": true
   },
   "outputs": [],
   "source": []
  },
  {
   "cell_type": "code",
   "execution_count": null,
   "metadata": {
    "collapsed": true
   },
   "outputs": [],
   "source": []
  },
  {
   "cell_type": "code",
   "execution_count": null,
   "metadata": {
    "collapsed": true
   },
   "outputs": [],
   "source": []
  },
  {
   "cell_type": "code",
   "execution_count": null,
   "metadata": {
    "collapsed": true
   },
   "outputs": [],
   "source": []
  },
  {
   "cell_type": "code",
   "execution_count": null,
   "metadata": {
    "collapsed": true
   },
   "outputs": [],
   "source": []
  },
  {
   "cell_type": "code",
   "execution_count": null,
   "metadata": {
    "collapsed": true
   },
   "outputs": [],
   "source": []
  },
  {
   "cell_type": "code",
   "execution_count": null,
   "metadata": {
    "collapsed": true
   },
   "outputs": [],
   "source": []
  },
  {
   "cell_type": "code",
   "execution_count": null,
   "metadata": {
    "collapsed": true
   },
   "outputs": [],
   "source": []
  },
  {
   "cell_type": "code",
   "execution_count": null,
   "metadata": {
    "collapsed": true
   },
   "outputs": [],
   "source": []
  },
  {
   "cell_type": "code",
   "execution_count": null,
   "metadata": {
    "collapsed": true
   },
   "outputs": [],
   "source": []
  }
 ],
 "metadata": {
  "kernelspec": {
   "display_name": "Python 3",
   "language": "python",
   "name": "python3"
  },
  "language_info": {
   "codemirror_mode": {
    "name": "ipython",
    "version": 3
   },
   "file_extension": ".py",
   "mimetype": "text/x-python",
   "name": "python",
   "nbconvert_exporter": "python",
   "pygments_lexer": "ipython3",
   "version": "3.6.1"
  }
 },
 "nbformat": 4,
 "nbformat_minor": 2
}
