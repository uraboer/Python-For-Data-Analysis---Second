{
 "cells": [
  {
   "cell_type": "markdown",
   "metadata": {},
   "source": [
    "### NumPy\n",
    "\n",
    "- ndarray, an efficient multidimensional array providing fast array-oriented arithmetic operations and flexible broadcasting capabilities\n",
    "\n",
    "- Mathematical functions for fast operations on entire arrays of data without having to write loops\n",
    "\n",
    "- Tools for reading/writing array data to disk and working with memory-mapped files\n",
    "\n",
    "- Linear algebra, random number generation, and Fourier transform capabilities\n",
    "\n",
    "- A C API for connecting NumPy with libraries written in C, C++ ,or FORTRAN"
   ]
  },
  {
   "cell_type": "markdown",
   "metadata": {},
   "source": [
    "### the main areas of functionality\n",
    "\n",
    "- Fast vectorized array operations for data munging and cleaning subsetting and filtering, transformation, and any other kinds of computations\n",
    "\n",
    "- Common array algorithms like sorting, unique, and set operations\n",
    "\n",
    "- Efficient descriptive statistics and aggregating/summarizing data\n",
    "\n",
    "- Data alignment and relational data manipulations for merging and joining together heterogeneous datasets\n",
    "\n",
    "- Expressing conditional logic as array expressions instead of loops with if-else-else branches\n",
    "\n",
    "- Group-wise data manipulations (aggregation, transformation, function application)"
   ]
  },
  {
   "cell_type": "markdown",
   "metadata": {},
   "source": [
    "### efficiency\n",
    "\n",
    "- NumPy internally stores data in a contiguous block of memory, independent of other built-in Python objects. NumPy's library of algorithms written in th C language can operate on this memory without any type checking or other overhead. NumPy arrays also use much less memory than built-in Python sequences.\n",
    "\n",
    "- NumPy operations perform complexcomputations on entire arrays without the need for Python for loops"
   ]
  },
  {
   "cell_type": "code",
   "execution_count": 2,
   "metadata": {},
   "outputs": [
    {
     "name": "stdout",
     "output_type": "stream",
     "text": [
      "Wall time: 49.1 ms\n",
      "Wall time: 588 ms\n"
     ]
    }
   ],
   "source": [
    "import numpy as np\n",
    "\n",
    "my_arr=np.arange(1000000)\n",
    "\n",
    "my_list=list(range(1000000))\n",
    "\n",
    "%time for _ in range(10):my_arr2=my_arr*2\n",
    "\n",
    "%time for _ in range(10):my_list2=[x for x in my_list]"
   ]
  },
  {
   "cell_type": "markdown",
   "metadata": {},
   "source": [
    "### The NumPy ndarray: A Multidimensional Array Object\n"
   ]
  },
  {
   "cell_type": "markdown",
   "metadata": {},
   "source": [
    "### universal Functions: Fast Element-Wise Array Functions"
   ]
  },
  {
   "cell_type": "code",
   "execution_count": 11,
   "metadata": {},
   "outputs": [
    {
     "data": {
      "text/plain": [
       "array([0, 5])"
      ]
     },
     "execution_count": 11,
     "metadata": {},
     "output_type": "execute_result"
    }
   ],
   "source": [
    "values=np.array([6,0,0,3,2,5,6])\n",
    "\n",
    "np.setxor1d(values,[2,3,6])"
   ]
  },
  {
   "cell_type": "code",
   "execution_count": 17,
   "metadata": {},
   "outputs": [
    {
     "data": {
      "text/plain": [
       "array([[  1.00000000e+00,   3.61429154e-17,  -2.40565671e-17,\n",
       "         -2.47785403e-17,  -4.48146384e-17],\n",
       "       [  1.55374602e-17,   1.00000000e+00,   4.43669419e-18,\n",
       "          7.46728561e-17,   3.25358300e-17],\n",
       "       [ -1.10011900e-16,  -2.38243213e-16,   1.00000000e+00,\n",
       "         -2.98750695e-16,  -3.53863567e-16],\n",
       "       [ -3.86686809e-17,   1.41075608e-16,  -2.60014811e-17,\n",
       "          1.00000000e+00,   8.11903295e-18],\n",
       "       [  3.27423829e-17,  -1.76259821e-17,   2.11183103e-17,\n",
       "         -9.04641828e-17,   1.00000000e+00]])"
      ]
     },
     "execution_count": 17,
     "metadata": {},
     "output_type": "execute_result"
    }
   ],
   "source": [
    "from numpy.linalg import inv,qr\n",
    "\n",
    "X=np.random.randn(5,5)\n",
    "\n",
    "mat=X.T.dot(X)\n",
    "\n",
    "mat\n",
    "\n",
    "inv(mat)\n",
    "\n",
    "mat.dot(inv(mat))"
   ]
  },
  {
   "cell_type": "code",
   "execution_count": 22,
   "metadata": {},
   "outputs": [
    {
     "data": {
      "text/plain": [
       "array([[-0.8704223 ,  0.14089614, -0.45589159, -0.04147436,  0.11382454],\n",
       "       [-0.15852882, -0.74321074,  0.04490117,  0.6372997 ,  0.11974715],\n",
       "       [ 0.44997576,  0.1755051 , -0.75029709,  0.30734179,  0.3306283 ],\n",
       "       [ 0.03546679, -0.32738795,  0.07394156, -0.52499269,  0.78132871],\n",
       "       [-0.11617895,  0.53833183,  0.47088604,  0.47122465,  0.50290651]])"
      ]
     },
     "execution_count": 22,
     "metadata": {},
     "output_type": "execute_result"
    }
   ],
   "source": [
    "q,r=qr(mat)\n",
    "q"
   ]
  },
  {
   "cell_type": "code",
   "execution_count": 20,
   "metadata": {},
   "outputs": [
    {
     "data": {
      "text/plain": [
       "array([[-5.63243136, -1.36427953,  4.80122192,  0.16892421, -2.05970807],\n",
       "       [ 0.        , -2.09087784,  0.07916675, -1.32880148,  3.62433154],\n",
       "       [ 0.        ,  0.        , -3.5830422 , -0.2502727 ,  3.71892916],\n",
       "       [ 0.        ,  0.        ,  0.        , -0.49179537,  1.73924877],\n",
       "       [ 0.        ,  0.        ,  0.        ,  0.        ,  1.04074711]])"
      ]
     },
     "execution_count": 20,
     "metadata": {},
     "output_type": "execute_result"
    }
   ],
   "source": [
    "r"
   ]
  },
  {
   "cell_type": "markdown",
   "metadata": {},
   "source": [
    "### Pseudorandom Number Generation"
   ]
  },
  {
   "cell_type": "code",
   "execution_count": 24,
   "metadata": {},
   "outputs": [
    {
     "name": "stdout",
     "output_type": "stream",
     "text": [
      "10 loops, best of 3: 118 ms per loop\n",
      "The slowest run took 5.59 times longer than the fastest. This could mean that an intermediate result is being cached.\n",
      "100 loops, best of 3: 3.84 ms per loop\n"
     ]
    }
   ],
   "source": [
    "from random import normalvariate\n",
    "\n",
    "N=100000\n",
    "\n",
    "%timeit samples=[normalvariate(0,1) for _ in range(N)]\n",
    "\n",
    "%timeit np.random.normal(size=N)"
   ]
  },
  {
   "cell_type": "code",
   "execution_count": 36,
   "metadata": {},
   "outputs": [
    {
     "data": {
      "text/plain": [
       "[<matplotlib.lines.Line2D at 0x1bba195e860>]"
      ]
     },
     "execution_count": 36,
     "metadata": {},
     "output_type": "execute_result"
    },
    {
     "data": {
      "image/png": "[encoded data removed]",
      "text/plain": [
       "<matplotlib.figure.Figure at 0x1bba18f9438>"
      ]
     },
     "metadata": {},
     "output_type": "display_data"
    }
   ],
   "source": [
    "import random\n",
    "\n",
    "%matplotlib inline\n",
    "import matplotlib.pyplot as plt\n",
    "\n",
    "position=0\n",
    "walk=[position]\n",
    "steps=1000\n",
    "for i in range(steps):\n",
    "    step=1 if random.randint(0,1) else -1\n",
    "    position+=step\n",
    "    walk.append(position)\n",
    "    \n",
    "plt.plot(walk[:100])"
   ]
  },
  {
   "cell_type": "code",
   "execution_count": 38,
   "metadata": {},
   "outputs": [
    {
     "data": {
      "text/plain": [
       "36"
      ]
     },
     "execution_count": 38,
     "metadata": {},
     "output_type": "execute_result"
    }
   ],
   "source": [
    "(np.abs(walk)>=10).argmax()"
   ]
  },
  {
   "cell_type": "code",
   "execution_count": null,
   "metadata": {
    "collapsed": true
   },
   "outputs": [],
   "source": []
  }
 ],
 "metadata": {
  "kernelspec": {
   "display_name": "Python 3",
   "language": "python",
   "name": "python3"
  },
  "language_info": {
   "codemirror_mode": {
    "name": "ipython",
    "version": 3
   },
   "file_extension": ".py",
   "mimetype": "text/x-python",
   "name": "python",
   "nbconvert_exporter": "python",
   "pygments_lexer": "ipython3",
   "version": "3.6.1"
  }
 },
 "nbformat": 4,
 "nbformat_minor": 2
}
